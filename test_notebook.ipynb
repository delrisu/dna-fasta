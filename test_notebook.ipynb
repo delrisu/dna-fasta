{
 "cells": [
  {
   "cell_type": "code",
   "execution_count": 1,
   "metadata": {},
   "outputs": [],
   "source": [
    "f = open(\"test_cases.fa\", \"r\")"
   ]
  },
  {
   "cell_type": "code",
   "execution_count": 2,
   "metadata": {},
   "outputs": [
    {
     "output_type": "stream",
     "name": "stdout",
     "text": ">1 testchr:data more_data_after_space Random_7683783_numbers RANDOM_WORD\n1132\n>2test_without_new_line_after_previous\n587\n>3test_with_newline\n142\n>4test_with_new_line_after_name\n842\n>5shorty\n19\n"
    }
   ],
   "source": [
    "line_len = 0\n",
    "for line in f:\n",
    "    if(line[0] == \">\"):\n",
    "        if(line_len != 0):\n",
    "            print(line_len)\n",
    "        line_len = 0\n",
    "        if(line[-1] != \"\\n\"):\n",
    "            print(line)\n",
    "        else:\n",
    "            print(line[:-1])\n",
    "    elif(line != \"\\n\"):\n",
    "        line_len += len(line) - line.count(\"\\n\")\n",
    "print(line_len)"
   ]
  },
  {
   "cell_type": "code",
   "execution_count": null,
   "metadata": {},
   "outputs": [],
   "source": []
  }
 ],
 "metadata": {
  "language_info": {
   "codemirror_mode": {
    "name": "ipython",
    "version": 3
   },
   "file_extension": ".py",
   "mimetype": "text/x-python",
   "name": "python",
   "nbconvert_exporter": "python",
   "pygments_lexer": "ipython3",
   "version": "3.7.6-final"
  },
  "orig_nbformat": 2,
  "kernelspec": {
   "name": "python37464bitbasecondaa9d093c616eb41f9b0528c5639ef7671",
   "display_name": "Python 3.7.4 64-bit ('base': conda)"
  }
 },
 "nbformat": 4,
 "nbformat_minor": 2
}